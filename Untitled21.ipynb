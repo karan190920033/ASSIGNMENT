{
 "cells": [
  {
   "cell_type": "code",
   "execution_count": 1,
   "id": "4802fd1e",
   "metadata": {},
   "outputs": [],
   "source": [
    "import numpy as np"
   ]
  },
  {
   "cell_type": "code",
   "execution_count": 7,
   "id": "48905017",
   "metadata": {},
   "outputs": [],
   "source": [
    "def my_bisection(f,a,b,tol):\n",
    "    if np.sign(f(a))==np.sign(f(b)):\n",
    "        raise Exception(\"The scalars a and b donot bound a root\")\n",
    "    m=(a+b)/2\n",
    "    if np.abs(f(m))<tol:\n",
    "        return m\n",
    "    elif np.sign(f(a))==np.sign(f(m)):\n",
    "        return my_bisection(f,m,b,tol)\n",
    "    elif np.sign(f(m))==np.sign(f(b)):\n",
    "        return my_bisection(f,a,m,tol)"
   ]
  },
  {
   "cell_type": "code",
   "execution_count": 12,
   "id": "5d01bdae",
   "metadata": {},
   "outputs": [
    {
     "name": "stdout",
     "output_type": "stream",
     "text": [
      "r1= 2.65625\n",
      "r01= 2.64453125\n",
      "f(r1)= 0.0556640625\n",
      "f(r01)= -0.0064544677734375\n"
     ]
    }
   ],
   "source": [
    "f= lambda x: x**2 - 7\n",
    "    \n",
    "r1=my_bisection(f,2,3,0.1)\n",
    "print(\"r1=\",r1)\n",
    "r01=my_bisection(f,2,3,0.01)\n",
    "print(\"r01=\",r01)\n",
    "\n",
    "print(\"f(r1)=\", f(r1))\n",
    "print(\"f(r01)=\",f(r01))"
   ]
  },
  {
   "cell_type": "code",
   "execution_count": 13,
   "id": "395e9348",
   "metadata": {},
   "outputs": [
    {
     "name": "stdout",
     "output_type": "stream",
     "text": [
      "newton_raphson = 2.646153846153846\n",
      "sqrt(7) = 2.6457513110645907\n"
     ]
    }
   ],
   "source": [
    "import numpy as np\n",
    "\n",
    "f = lambda x: x**2 - 7\n",
    "f_prime = lambda x: 2*x\n",
    "newton_raphson = 2.6 - (f(2.6))/(f_prime(2.6))\n",
    "\n",
    "print(\"newton_raphson =\", newton_raphson)\n",
    "print(\"sqrt(7) =\", np.sqrt(7))"
   ]
  },
  {
   "cell_type": "code",
   "execution_count": 14,
   "id": "f6bb3652",
   "metadata": {},
   "outputs": [
    {
     "name": "stdout",
     "output_type": "stream",
     "text": [
      "r1= 3.3125\n",
      "r01= 3.31640625\n",
      "f(r1)= -0.02734375\n",
      "f(r01)= -0.0014495849609375\n"
     ]
    }
   ],
   "source": [
    "f= lambda x: x**2 - 11\n",
    "    \n",
    "r1=my_bisection(f,3,4,0.1)\n",
    "print(\"r1=\",r1)\n",
    "r01=my_bisection(f,3,4,0.01)\n",
    "print(\"r01=\",r01)\n",
    "\n",
    "print(\"f(r1)=\", f(r1))\n",
    "print(\"f(r01)=\",f(r01))"
   ]
  },
  {
   "cell_type": "code",
   "execution_count": 15,
   "id": "f90d8142",
   "metadata": {},
   "outputs": [
    {
     "name": "stdout",
     "output_type": "stream",
     "text": [
      "newton_raphson = 3.316666666666667\n",
      "sqrt(11) = 3.3166247903554\n"
     ]
    }
   ],
   "source": [
    "import numpy as np\n",
    "\n",
    "f = lambda x: x**2 - 11\n",
    "f_prime = lambda x: 2*x\n",
    "newton_raphson = 3.3 - (f(3.3))/(f_prime(3.3))\n",
    "\n",
    "print(\"newton_raphson =\", newton_raphson)\n",
    "print(\"sqrt(11) =\", np.sqrt(11))"
   ]
  },
  {
   "cell_type": "code",
   "execution_count": null,
   "id": "412114c7",
   "metadata": {},
   "outputs": [],
   "source": []
  }
 ],
 "metadata": {
  "kernelspec": {
   "display_name": "Python 3 (ipykernel)",
   "language": "python",
   "name": "python3"
  },
  "language_info": {
   "codemirror_mode": {
    "name": "ipython",
    "version": 3
   },
   "file_extension": ".py",
   "mimetype": "text/x-python",
   "name": "python",
   "nbconvert_exporter": "python",
   "pygments_lexer": "ipython3",
   "version": "3.9.13"
  }
 },
 "nbformat": 4,
 "nbformat_minor": 5
}
