{
 "cells": [
  {
   "cell_type": "code",
   "execution_count": 10,
   "id": "50db5f11",
   "metadata": {},
   "outputs": [
    {
     "name": "stdout",
     "output_type": "stream",
     "text": [
      "1.9835235375094546\n",
      "0.01647646249054535\n"
     ]
    }
   ],
   "source": [
    "import numpy as np\n",
    "a= 0\n",
    "b= np.pi\n",
    "n= 11\n",
    "h= (b - a) / (n - 1)\n",
    "x= np.linspace(a, b, n)\n",
    "f= np.sin(x)\n",
    "I_trap = (h/2)*(f[0] +2* sum(f[1:n-1])+f[n-1])\n",
    "err_trap = 2 - I_trap\n",
    "print(I_trap)\n",
    "print(err_trap)"
   ]
  },
  {
   "cell_type": "code",
   "execution_count": 11,
   "id": "6076e966",
   "metadata": {},
   "outputs": [
    {
     "name": "stdout",
     "output_type": "stream",
     "text": [
      "3.4166875082533534e-16\n",
      "1.9999999999999996\n"
     ]
    }
   ],
   "source": [
    "import numpy as np\n",
    "a= 0\n",
    "b= np.pi\n",
    "n= 50\n",
    "h= (b - a) / (n - 1)\n",
    "x= np.linspace(a, b, n)\n",
    "f= np.cos(x)\n",
    "I_trap = (h/2)*(f[0] +2* sum(f[1:n-1])+f[n-1])\n",
    "err_trap = 2 - I_trap\n",
    "print(I_trap)\n",
    "print(err_trap)"
   ]
  },
  {
   "cell_type": "code",
   "execution_count": 16,
   "id": "1976301d",
   "metadata": {},
   "outputs": [
    {
     "name": "stdout",
     "output_type": "stream",
     "text": [
      "5130610157601510.0\n",
      "-5130610157601508.0\n"
     ]
    }
   ],
   "source": [
    "import numpy as np\n",
    "a= 0\n",
    "b= np.pi\n",
    "n= 11\n",
    "h= (b - a) / (n - 1)\n",
    "x= np.linspace(a, b, n)\n",
    "f= np.tan(x)\n",
    "I_trap = (h/2)*(f[0] +2* sum(f[1:n-1])+f[n-1])\n",
    "err_trap = 2 - I_trap\n",
    "print(I_trap)\n",
    "print(err_trap)"
   ]
  },
  {
   "cell_type": "code",
   "execution_count": 18,
   "id": "b07c5949",
   "metadata": {},
   "outputs": [
    {
     "name": "stdout",
     "output_type": "stream",
     "text": [
      "1.9772978391747011\n",
      "0.022702160825298856\n"
     ]
    }
   ],
   "source": [
    "import numpy as np\n",
    "a= 0\n",
    "b= np.pi\n",
    "n= 20\n",
    "h= (b - a) / (n - 1)\n",
    "x= np.linspace(a, b, n)\n",
    "f= np.sin(x)\n",
    "I_simp =(h/3)*(f[0]+ 2*sum(f[:n-2:2]) + 4*sum(f[1:n-1:2])+f[n-1])\n",
    "err_simp =2- I_simp\n",
    "print(I_simp)\n",
    "print(err_simp)"
   ]
  },
  {
   "cell_type": "code",
   "execution_count": 19,
   "id": "24b290c6",
   "metadata": {},
   "outputs": [
    {
     "name": "stdout",
     "output_type": "stream",
     "text": [
      "2.0001095173150043\n",
      "-0.00010951731500430384\n"
     ]
    }
   ],
   "source": [
    "import numpy as np\n",
    "a= 0\n",
    "b= np.pi\n",
    "n= 11\n",
    "h= (b - a) / (n - 1)\n",
    "x= np.linspace(a, b, n)\n",
    "f= np.sin(x)\n",
    "I_simp =(h/3)*(f[0]+ 2*sum(f[:n-2:2]) + 4*sum(f[1:n-1:2])+f[n-1])\n",
    "err_simp =2- I_simp\n",
    "print(I_simp)\n",
    "print(err_simp)"
   ]
  },
  {
   "cell_type": "code",
   "execution_count": 21,
   "id": "5989755b",
   "metadata": {},
   "outputs": [
    {
     "name": "stdout",
     "output_type": "stream",
     "text": [
      "0.20943951023931953\n",
      "1.7905604897606804\n"
     ]
    }
   ],
   "source": [
    "import numpy as np\n",
    "a= 0\n",
    "b= np.pi\n",
    "n= 11\n",
    "h= (b - a) / (n - 1)\n",
    "x= np.linspace(a, b, n)\n",
    "f= np.cos(x)\n",
    "I_simp =(h/3)*(f[0]+ 2*sum(f[:n-2:2]) + 4*sum(f[1:n-1:2])+f[n-1])\n",
    "err_simp =2- I_simp\n",
    "print(I_simp)\n",
    "print(err_simp)"
   ]
  },
  {
   "cell_type": "code",
   "execution_count": 22,
   "id": "22c3eb6b",
   "metadata": {},
   "outputs": [
    {
     "name": "stdout",
     "output_type": "stream",
     "text": [
      "1.9835235375094546\n",
      "0.01647646249054535\n",
      "1.9835235375094546\n",
      "0.01647646249054535\n",
      "2.0082484079079745\n",
      "-0.008248407907974542\n"
     ]
    }
   ],
   "source": [
    "import numpy as np\n",
    "\n",
    "a = 0\n",
    "b = np.pi\n",
    "n = 11\n",
    "h = (b - a) / (n - 1)\n",
    "x = np.linspace(a, b, n)\n",
    "f = np.sin(x)\n",
    "\n",
    "I_riemannL = h * sum(f[:n-1])\n",
    "err_riemannL = 2 - I_riemannL\n",
    "\n",
    "I_riemannR = h * sum(f[1::])\n",
    "err_riemannR = 2 - I_riemannR\n",
    "\n",
    "I_mid = h * sum(np.sin((x[:n-1] \\\n",
    "        + x[1:])/2))\n",
    "err_mid = 2 - I_mid\n",
    "\n",
    "print(I_riemannL)\n",
    "print(err_riemannL)\n",
    "\n",
    "print(I_riemannR)\n",
    "print(err_riemannR)\n",
    "\n",
    "print(I_mid)\n",
    "print(err_mid)"
   ]
  },
  {
   "cell_type": "code",
   "execution_count": null,
   "id": "fb2147fa",
   "metadata": {},
   "outputs": [],
   "source": []
  }
 ],
 "metadata": {
  "kernelspec": {
   "display_name": "Python 3 (ipykernel)",
   "language": "python",
   "name": "python3"
  },
  "language_info": {
   "codemirror_mode": {
    "name": "ipython",
    "version": 3
   },
   "file_extension": ".py",
   "mimetype": "text/x-python",
   "name": "python",
   "nbconvert_exporter": "python",
   "pygments_lexer": "ipython3",
   "version": "3.9.13"
  }
 },
 "nbformat": 4,
 "nbformat_minor": 5
}
