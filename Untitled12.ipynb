{
 "cells": [
  {
   "cell_type": "code",
   "execution_count": 1,
   "id": "a57b2423",
   "metadata": {},
   "outputs": [],
   "source": [
    "import multiprocessing as mp"
   ]
  },
  {
   "cell_type": "code",
   "execution_count": 2,
   "id": "6b70c4bf",
   "metadata": {},
   "outputs": [
    {
     "name": "stdout",
     "output_type": "stream",
     "text": [
      "Number of cpu: 8\n"
     ]
    }
   ],
   "source": [
    "print(f\"Number of cpu: {mp.cpu_count()}\")"
   ]
  },
  {
   "cell_type": "code",
   "execution_count": 3,
   "id": "e5717390",
   "metadata": {},
   "outputs": [],
   "source": [
    "import numpy as np\n",
    "import time\n",
    "\n",
    "def random_square(seed):\n",
    "    np.random.seed(seed)\n",
    "    random_num = np.random.randint(0, 10)\n",
    "    return random_num**2"
   ]
  },
  {
   "cell_type": "code",
   "execution_count": 6,
   "id": "73be31d1",
   "metadata": {},
   "outputs": [
    {
     "name": "stdout",
     "output_type": "stream",
     "text": [
      "Execution time 0.5328962802886963 s\n"
     ]
    }
   ],
   "source": [
    "t0 = time.time()\n",
    "results = []\n",
    "for i in range(100000): \n",
    "    results.append(random_square(i))\n",
    "t1 = time.time()\n",
    "print(f'Execution time {t1 - t0} s')"
   ]
  },
  {
   "cell_type": "code",
   "execution_count": null,
   "id": "eaa41eee",
   "metadata": {},
   "outputs": [],
   "source": [
    "t0 = time.time()\n",
    "n_cpu = mp.cpu_count()\n",
    "\n",
    "pool = mp.Pool(processes=n_cpu)\n",
    "results = [pool.map(random_square, range(10000000))]\n",
    "t1 = time.time()\n",
    "print(f'Execution time {t1 - t0} s')"
   ]
  },
  {
   "cell_type": "code",
   "execution_count": null,
   "id": "49924856",
   "metadata": {},
   "outputs": [],
   "source": []
  }
 ],
 "metadata": {
  "kernelspec": {
   "display_name": "Python 3 (ipykernel)",
   "language": "python",
   "name": "python3"
  },
  "language_info": {
   "codemirror_mode": {
    "name": "ipython",
    "version": 3
   },
   "file_extension": ".py",
   "mimetype": "text/x-python",
   "name": "python",
   "nbconvert_exporter": "python",
   "pygments_lexer": "ipython3",
   "version": "3.9.13"
  }
 },
 "nbformat": 4,
 "nbformat_minor": 5
}
