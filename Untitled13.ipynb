{
 "cells": [
  {
   "cell_type": "code",
   "execution_count": 4,
   "id": "a48ead13",
   "metadata": {},
   "outputs": [
    {
     "name": "stdout",
     "output_type": "stream",
     "text": [
      "(1, 5)\n",
      "(4, 1)\n"
     ]
    }
   ],
   "source": [
    "import numpy as np\n",
    "vector_row = np.array([[4, -150, 4, 9, 4]])\n",
    "vector_column = np.array([[2], \n",
    "                          [3], \n",
    "                          [8], \n",
    "                          [4]])\n",
    "print(vector_row.shape)\n",
    "print(vector_column.shape)"
   ]
  },
  {
   "cell_type": "code",
   "execution_count": 5,
   "id": "1e0f59f2",
   "metadata": {},
   "outputs": [
    {
     "name": "stdout",
     "output_type": "stream",
     "text": [
      "[[   4]\n",
      " [-150]\n",
      " [   4]\n",
      " [   9]\n",
      " [   4]]\n",
      "L_1 is: 171.0\n",
      "L_2 is: 150.4\n",
      "L_inf is: 150.0\n"
     ]
    }
   ],
   "source": [
    "from numpy.linalg import norm\n",
    "new_vector = vector_row.T\n",
    "print(new_vector)\n",
    "norm_1 = norm(new_vector, 1)\n",
    "norm_2 = norm(new_vector, 2)\n",
    "norm_inf = norm(new_vector, np.inf)\n",
    "print('L_1 is: %.1f'%norm_1)\n",
    "print('L_2 is: %.1f'%norm_2)\n",
    "print('L_inf is: %.1f'%norm_inf)"
   ]
  },
  {
   "cell_type": "code",
   "execution_count": 6,
   "id": "45488060",
   "metadata": {},
   "outputs": [
    {
     "name": "stdout",
     "output_type": "stream",
     "text": [
      "[[0.97820508]]\n"
     ]
    }
   ],
   "source": [
    "from numpy import arccos, dot\n",
    "\n",
    "v = np.array([[4, 9, 3]])\n",
    "w = np.array([[9, 3, 18]])\n",
    "theta = \\\n",
    "    arccos(dot(v, w.T)/(norm(v)*norm(w)))\n",
    "print(theta)"
   ]
  },
  {
   "cell_type": "code",
   "execution_count": 7,
   "id": "669ccc02",
   "metadata": {},
   "outputs": [
    {
     "name": "stdout",
     "output_type": "stream",
     "text": [
      "[[ 10 -45 -12]]\n"
     ]
    }
   ],
   "source": [
    "v = np.array([[9, 2, 0]])\n",
    "w = np.array([[6, 0, 5]])\n",
    "print(np.cross(v, w))"
   ]
  },
  {
   "cell_type": "code",
   "execution_count": 12,
   "id": "b023be4e",
   "metadata": {},
   "outputs": [
    {
     "name": "stdout",
     "output_type": "stream",
     "text": [
      "[[1.00851936]]\n"
     ]
    }
   ],
   "source": [
    "from numpy import arccos, dot\n",
    "\n",
    "v = np.array([[0, 3, 3]])\n",
    "w = np.array([[20, 7, 11]])\n",
    "theta = \\\n",
    "    arccos(dot(v, w.T)/(norm(v)*norm(w)))\n",
    "print(theta)"
   ]
  },
  {
   "cell_type": "code",
   "execution_count": 13,
   "id": "07c7c091",
   "metadata": {},
   "outputs": [
    {
     "name": "stdout",
     "output_type": "stream",
     "text": [
      "[[ 20 -80  66]]\n"
     ]
    }
   ],
   "source": [
    "v = np.array([[8, 2, 0]])\n",
    "w = np.array([[3, 9, 10]])\n",
    "print(np.cross(v, w))"
   ]
  },
  {
   "cell_type": "code",
   "execution_count": 14,
   "id": "cb8be5f6",
   "metadata": {},
   "outputs": [
    {
     "name": "stdout",
     "output_type": "stream",
     "text": [
      "[[4 7]\n",
      " [2 3]\n",
      " [9 0]]\n",
      "[[1 6 2 1]\n",
      " [1 2 3 4]]\n",
      "[[11 38 29 32]\n",
      " [ 5 18 13 14]\n",
      " [ 9 54 18  9]]\n"
     ]
    },
    {
     "ename": "ValueError",
     "evalue": "shapes (2,4) and (3,2) not aligned: 4 (dim 1) != 3 (dim 0)",
     "output_type": "error",
     "traceback": [
      "\u001b[1;31m---------------------------------------------------------------------------\u001b[0m",
      "\u001b[1;31mValueError\u001b[0m                                Traceback (most recent call last)",
      "\u001b[1;32m~\\AppData\\Local\\Temp\\ipykernel_11092\\737072628.py\u001b[0m in \u001b[0;36m<module>\u001b[1;34m\u001b[0m\n\u001b[0;32m      4\u001b[0m \u001b[0mprint\u001b[0m\u001b[1;33m(\u001b[0m\u001b[0mQ\u001b[0m\u001b[1;33m)\u001b[0m\u001b[1;33m\u001b[0m\u001b[1;33m\u001b[0m\u001b[0m\n\u001b[0;32m      5\u001b[0m \u001b[0mprint\u001b[0m\u001b[1;33m(\u001b[0m\u001b[0mnp\u001b[0m\u001b[1;33m.\u001b[0m\u001b[0mdot\u001b[0m\u001b[1;33m(\u001b[0m\u001b[0mP\u001b[0m\u001b[1;33m,\u001b[0m \u001b[0mQ\u001b[0m\u001b[1;33m)\u001b[0m\u001b[1;33m)\u001b[0m\u001b[1;33m\u001b[0m\u001b[1;33m\u001b[0m\u001b[0m\n\u001b[1;32m----> 6\u001b[1;33m \u001b[0mnp\u001b[0m\u001b[1;33m.\u001b[0m\u001b[0mdot\u001b[0m\u001b[1;33m(\u001b[0m\u001b[0mQ\u001b[0m\u001b[1;33m,\u001b[0m \u001b[0mP\u001b[0m\u001b[1;33m)\u001b[0m\u001b[1;33m\u001b[0m\u001b[1;33m\u001b[0m\u001b[0m\n\u001b[0m",
      "\u001b[1;32m<__array_function__ internals>\u001b[0m in \u001b[0;36mdot\u001b[1;34m(*args, **kwargs)\u001b[0m\n",
      "\u001b[1;31mValueError\u001b[0m: shapes (2,4) and (3,2) not aligned: 4 (dim 1) != 3 (dim 0)"
     ]
    }
   ],
   "source": [
    "P = np.array([[4, 7], [2, 3], [9, 0]])\n",
    "Q = np.array([[1, 6, 2, 1], [1, 2, 3, 4]])\n",
    "print(P)\n",
    "print(Q)\n",
    "print(np.dot(P, Q))\n",
    "np.dot(Q, P)"
   ]
  },
  {
   "cell_type": "code",
   "execution_count": 15,
   "id": "17f0e908",
   "metadata": {},
   "outputs": [
    {
     "name": "stdout",
     "output_type": "stream",
     "text": [
      "M:\n",
      " [[ 6  4  1  8]\n",
      " [ 9  4  9  1]\n",
      " [ 2  0  9  3]\n",
      " [ 7  2  2 11]]\n",
      "Determinant: -1562.0\n",
      "I:\n",
      " [[1. 0. 0. 0.]\n",
      " [0. 1. 0. 0.]\n",
      " [0. 0. 1. 0.]\n",
      " [0. 0. 0. 1.]]\n",
      "M*I:\n",
      " [[ 6.  4.  1.  8.]\n",
      " [ 9.  4.  9.  1.]\n",
      " [ 2.  0.  9.  3.]\n",
      " [ 7.  2.  2. 11.]]\n"
     ]
    }
   ],
   "source": [
    "from numpy.linalg import det\n",
    "\n",
    "M = np.array([[6,4,1,8], \n",
    "             [9,4,9,1], \n",
    "             [2,0,9,3],\n",
    "             [7,2,2,11]])\n",
    "print('M:\\n', M)\n",
    "\n",
    "print('Determinant: %.1f'%det(M))\n",
    "I = np.eye(4)\n",
    "print('I:\\n', I)\n",
    "print('M*I:\\n', np.dot(M, I))"
   ]
  },
  {
   "cell_type": "code",
   "execution_count": 16,
   "id": "61d93bec",
   "metadata": {},
   "outputs": [
    {
     "name": "stdout",
     "output_type": "stream",
     "text": [
      "Inv M:\n",
      " [[-0.26120359  0.14980794 -0.17029449  0.22279129]\n",
      " [ 0.49231754 -0.05441741  0.08322663 -0.37580026]\n",
      " [ 0.03457106 -0.00512164  0.12548015 -0.05889885]\n",
      " [ 0.07042254 -0.08450704  0.07042254  0.02816901]]\n",
      "det(p):\n",
      " 0.0\n"
     ]
    }
   ],
   "source": [
    "from numpy.linalg import inv\n",
    "\n",
    "print('Inv M:\\n', inv(M))\n",
    "P = np.array([[0,1,0],\n",
    "              [0,0,0],\n",
    "              [1,0,1]])\n",
    "print('det(p):\\n', det(P))"
   ]
  },
  {
   "cell_type": "code",
   "execution_count": 17,
   "id": "770da1eb",
   "metadata": {},
   "outputs": [
    {
     "name": "stdout",
     "output_type": "stream",
     "text": [
      "Condition number:\n",
      " 1.0\n",
      "Rank:\n",
      " 3\n",
      "Augmented matrix:\n",
      " [[1 0 0 1]\n",
      " [0 1 0 2]\n",
      " [0 0 1 1]]\n"
     ]
    }
   ],
   "source": [
    "from numpy.linalg import \\\n",
    "             cond, matrix_rank\n",
    "\n",
    "A = np.array([[1,0,0],\n",
    "              [0,1,0],\n",
    "              [0,0,1]])\n",
    "\n",
    "print('Condition number:\\n', cond(A))\n",
    "print('Rank:\\n', matrix_rank(A))\n",
    "y = np.array([[1], [2], [1]])\n",
    "A_y = np.concatenate((A, y), axis = 1)\n",
    "print('Augmented matrix:\\n', A_y)"
   ]
  },
  {
   "cell_type": "code",
   "execution_count": 18,
   "id": "77d54cf4",
   "metadata": {},
   "outputs": [
    {
     "name": "stdout",
     "output_type": "stream",
     "text": [
      "LU= [[  8.     9.    -2.  ]\n",
      " [ 82.8  -31.1   76.8 ]\n",
      " [ 98.8  109.84  90.  ]]\n"
     ]
    }
   ],
   "source": [
    "import numpy as np\n",
    "\n",
    "u = np.array([[8, 9, -2], \n",
    "              [9, -2.3, 7.5], \n",
    "              [1, 0, 12]])\n",
    "l = np.array([[1, 0, 0], \n",
    "              [-0.9, 10, 0], \n",
    "              [12, -0.8, 10]])\n",
    "\n",
    "print('LU=', np.dot(l, u))"
   ]
  },
  {
   "cell_type": "code",
   "execution_count": 19,
   "id": "36ecff34",
   "metadata": {},
   "outputs": [
    {
     "name": "stdout",
     "output_type": "stream",
     "text": [
      "NOT diagonally dominant\n"
     ]
    }
   ],
   "source": [
    "a = [[18, 13, -3], [-2, -17, 15], [3, 5, 19]]\n",
    "\n",
    "diag = np.diag(np.abs(a)) \n",
    "off_diag = np.sum(np.abs(a), axis=1) - diag \n",
    "\n",
    "if np.all(diag > off_diag):\n",
    "    print('matrix is diagonally dominant')\n",
    "else:\n",
    "    print('NOT diagonally dominant')"
   ]
  },
  {
   "cell_type": "code",
   "execution_count": 25,
   "id": "edf79f98",
   "metadata": {},
   "outputs": [
    {
     "name": "stdout",
     "output_type": "stream",
     "text": [
      "Iteration results\n",
      " k,    x1,    x2,    x3 \n",
      "1, 1.8333, -8.6667, -5.9667\n",
      "2, 3.1833, -41.2000, -37.6900\n",
      "3, 3.5883, -200.6267, -196.8737\n",
      "4, 3.7098, -996.7880, -992.9621\n",
      "5, 3.7463, -4977.3031, -4973.4553\n",
      "6, 3.7572, -24879.7909, -24875.9366\n",
      "7, 3.7605, -124392.2039, -124388.3476\n",
      "8, 3.7615, -621954.2612, -621950.4043\n",
      "9, 3.7618, -3109764.5450, -3109760.6880\n",
      "10, 3.7619, -15548815.9635, -15548812.1064\n",
      "11, 3.7619, -77744073.0557, -77744069.1986\n",
      "12, 3.7619, -388720358.5167, -388720354.6596\n",
      "13, 3.7619, -1943601785.8217, -1943601781.9645\n",
      "14, 3.7619, -9718008922.3465, -9718008918.4894\n",
      "15, 3.7619, -48590044604.9706, -48590044601.1135\n",
      "16, 3.7619, -242950223018.0912, -242950223014.2341\n",
      "17, 3.7619, -1214751115083.6943, -1214751115079.8372\n",
      "18, 3.7619, -6073755575411.7090, -6073755575407.8525\n",
      "19, 3.7611, -30368777877051.7852, -30368777877047.9297\n",
      "20, 3.7630, -151843889385252.1875, -151843889385248.3438\n",
      "21, 3.7604, -759219446926254.2500, -759219446926250.2500\n",
      "22, 3.8333, -3796097234631263.5000, -3796097234631259.0000\n",
      "23, 4.0000, -18980486173156308.0000, -18980486173156304.0000\n",
      "24, 4.0000, -94902430865781536.0000, -94902430865781536.0000\n",
      "25, 0.0000, -474512154328907648.0000, -474512154328907648.0000\n",
      "26, 0.0000, -2372560771644538368.0000, -2372560771644538368.0000\n",
      "27, 0.0000, -11862803858222692352.0000, -11862803858222692352.0000\n",
      "28, 0.0000, -59314019291113463808.0000, -59314019291113472000.0000\n",
      "29, -5461.3333, -296570096455567343616.0000, -296570096455567343616.0000\n",
      "30, 0.0000, -1482850482277836652544.0000, -1482850482277836652544.0000\n",
      "31, 0.0000, -7414252411389183262720.0000, -7414252411389183262720.0000\n",
      "32, 0.0000, -37071262056945914216448.0000, -37071262056945914216448.0000\n",
      "33, 0.0000, -185356310284729571082240.0000, -185356310284729571082240.0000\n",
      "34, 0.0000, -926781551423647888965632.0000, -926781551423647888965632.0000\n",
      "35, 0.0000, -4633907757118239176392704.0000, -4633907757118239176392704.0000\n",
      "36, 0.0000, -23169538785591195881963520.0000, -23169538785591195881963520.0000\n",
      "37, 0.0000, -115847693927955983704784896.0000, -115847693927955983704784896.0000\n",
      "38, 0.0000, -579238469639779935703793664.0000, -579238469639779935703793664.0000\n",
      "39, 0.0000, -2896192348198899678518968320.0000, -2896192348198899678518968320.0000\n",
      "40, 0.0000, -14480961740994499492106469376.0000, -14480961740994499492106469376.0000\n",
      "41, 0.0000, -72404808704972497460532346880.0000, -72404808704972506256625369088.0000\n",
      "42, -5864062014805.3330, -362024043524862522487033823232.0000, -362024043524862522487033823232.0000\n",
      "43, 0.0000, -1810120217624312612435169116160.0000, -1810120217624312612435169116160.0000\n",
      "44, 0.0000, -9050601088121563343650822291456.0000, -9050601088121564469550729134080.0000\n",
      "45, -750599937895082.6250, -45253005440607821221853738827776.0000, -45253005440607821221853738827776.0000\n",
      "46, 0.0000, -226265027203039106109268694138880.0000, -226265027203039106109268694138880.0000\n",
      "47, 0.0000, -1131325136015195494517546451730432.0000, -1131325136015195494517546451730432.0000\n",
      "48, 0.0000, -5656625680075977472587732258652160.0000, -5656625680075977472587732258652160.0000\n",
      "49, 0.0000, -28283128400379888515860165900107776.0000, -28283128400379888515860165900107776.0000\n",
      "Not converge, increase the # of iterations\n"
     ]
    }
   ],
   "source": [
    "x1 = 0\n",
    "x2 = 0\n",
    "x3 = 0\n",
    "epsilon = 0.01\n",
    "converged = False\n",
    "\n",
    "x_old = np.array([x1, x2, x3])\n",
    "\n",
    "print('Iteration results')\n",
    "print(' k,    x1,    x2,    x3 ')\n",
    "for k in range(1, 50):\n",
    "    x1 = (11-3*x2+3*x3)/6\n",
    "    x2 = (5+2*x1-5*x3)/(-1)\n",
    "    x3 = (-8-3*x1-5*x2)/(-5)\n",
    "    x = np.array([x1, x2, x3])\n",
    "    # check if it is smaller than threshold\n",
    "    dx = np.sqrt(np.dot(x-x_old, x-x_old))\n",
    "    \n",
    "    print(\"%d, %.4f, %.4f, %.4f\"%(k, x1, x2, x3))\n",
    "    if dx < epsilon:\n",
    "        converged = True\n",
    "        print('Converged!')\n",
    "        break\n",
    "        \n",
    "    # assign the latest x value to the old value\n",
    "    x_old = x\n",
    "\n",
    "if not converged:\n",
    "    print('Not converge, increase the # of iterations')"
   ]
  },
  {
   "cell_type": "code",
   "execution_count": null,
   "id": "f2bcd76f",
   "metadata": {},
   "outputs": [],
   "source": []
  }
 ],
 "metadata": {
  "kernelspec": {
   "display_name": "Python 3 (ipykernel)",
   "language": "python",
   "name": "python3"
  },
  "language_info": {
   "codemirror_mode": {
    "name": "ipython",
    "version": 3
   },
   "file_extension": ".py",
   "mimetype": "text/x-python",
   "name": "python",
   "nbconvert_exporter": "python",
   "pygments_lexer": "ipython3",
   "version": "3.9.13"
  }
 },
 "nbformat": 4,
 "nbformat_minor": 5
}
