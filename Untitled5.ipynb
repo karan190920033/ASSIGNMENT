{
 "cells": [
  {
   "cell_type": "code",
   "execution_count": 2,
   "id": "3879d8ea",
   "metadata": {},
   "outputs": [],
   "source": [
    "def factorial(n):\n",
    "    \n",
    "    if n == 1: \n",
    "        return 1\n",
    "    else: \n",
    "        return n * factorial(n - 1) "
   ]
  },
  {
   "cell_type": "code",
   "execution_count": 4,
   "id": "ecd31561",
   "metadata": {},
   "outputs": [
    {
     "data": {
      "text/plain": [
       "720"
      ]
     },
     "execution_count": 4,
     "metadata": {},
     "output_type": "execute_result"
    }
   ],
   "source": [
    "factorial(6)"
   ]
  },
  {
   "cell_type": "code",
   "execution_count": 5,
   "id": "8a0a51d9",
   "metadata": {},
   "outputs": [],
   "source": [
    "def fibonacci(n):\n",
    "    if n == 1: \n",
    "        return 1\n",
    "    elif n == 2:\n",
    "        return 1\n",
    "    else: # Recursive step\n",
    "        return fibonacci(n-1) + fibonacci(n-2)\n"
   ]
  },
  {
   "cell_type": "code",
   "execution_count": 6,
   "id": "7c9317fe",
   "metadata": {},
   "outputs": [
    {
     "name": "stdout",
     "output_type": "stream",
     "text": [
      "13\n",
      "1\n",
      "2\n",
      "34\n",
      "5\n"
     ]
    }
   ],
   "source": [
    "print(fibonacci(7))\n",
    "print(fibonacci(2))\n",
    "print(fibonacci(3))\n",
    "print(fibonacci(9))\n",
    "print(fibonacci(5))"
   ]
  },
  {
   "cell_type": "code",
   "execution_count": 9,
   "id": "3a9daa87",
   "metadata": {},
   "outputs": [
    {
     "name": "stdout",
     "output_type": "stream",
     "text": [
      "1\n",
      "1\n",
      "2\n",
      "1\n",
      "3\n",
      "1\n",
      "1\n",
      "2\n",
      "5\n",
      "1\n",
      "1\n",
      "2\n",
      "1\n",
      "3\n",
      "8\n",
      "1\n",
      "1\n",
      "2\n",
      "1\n",
      "3\n",
      "1\n",
      "1\n",
      "2\n",
      "5\n",
      "13\n"
     ]
    },
    {
     "data": {
      "text/plain": [
       "13"
      ]
     },
     "execution_count": 9,
     "metadata": {},
     "output_type": "execute_result"
    }
   ],
   "source": [
    "def fibonacci_display(n):\n",
    "    if n == 1: \n",
    "        out = 1\n",
    "        print(out)\n",
    "        return out \n",
    "    elif n == 2:\n",
    "        out = 1\n",
    "        print(out)\n",
    "        return out\n",
    "    else: \n",
    "        out = fibonacci_display(n-1)+fibonacci_display(n-2)\n",
    "        print(out)\n",
    "        return out \n",
    "fibonacci_display(7)"
   ]
  },
  {
   "cell_type": "code",
   "execution_count": 10,
   "id": "8bb4c798",
   "metadata": {},
   "outputs": [],
   "source": [
    "import numpy as np\n",
    "\n",
    "def iter_fib(n):\n",
    "    fib = np.ones(n)\n",
    "    \n",
    "    for i in range(2, n):\n",
    "        fib[i] = fib[i - 1] + fib[i - 2]\n",
    "        \n",
    "    return fib"
   ]
  },
  {
   "cell_type": "code",
   "execution_count": 11,
   "id": "99c6e513",
   "metadata": {},
   "outputs": [
    {
     "name": "stdout",
     "output_type": "stream",
     "text": [
      "43.8 µs ± 4.7 µs per loop (mean ± std. dev. of 7 runs, 10000 loops each)\n"
     ]
    }
   ],
   "source": [
    "%timeit iter_fib(36)"
   ]
  },
  {
   "cell_type": "code",
   "execution_count": 12,
   "id": "6ede9732",
   "metadata": {},
   "outputs": [],
   "source": [
    "def my_towers(N, from_tower, to_tower, alt_tower):\n",
    "\n",
    "    \n",
    "    if N != 0:\n",
    "        \n",
    "        my_towers(N-1, from_tower, alt_tower, to_tower)\n",
    "        print(\"Move disk %d from tower %d to tower %d.\"\\\n",
    "                  %(N, from_tower, to_tower))\n",
    "        my_towers(N-1, alt_tower, to_tower, from_tower)"
   ]
  },
  {
   "cell_type": "code",
   "execution_count": 13,
   "id": "d574a983",
   "metadata": {},
   "outputs": [
    {
     "name": "stdout",
     "output_type": "stream",
     "text": [
      "Move disk 1 from tower 1 to tower 7.\n",
      "Move disk 2 from tower 1 to tower 3.\n",
      "Move disk 1 from tower 7 to tower 3.\n",
      "Move disk 3 from tower 1 to tower 7.\n",
      "Move disk 1 from tower 3 to tower 1.\n",
      "Move disk 2 from tower 3 to tower 7.\n",
      "Move disk 1 from tower 1 to tower 7.\n",
      "Move disk 4 from tower 1 to tower 3.\n",
      "Move disk 1 from tower 7 to tower 3.\n",
      "Move disk 2 from tower 7 to tower 1.\n",
      "Move disk 1 from tower 3 to tower 1.\n",
      "Move disk 3 from tower 7 to tower 3.\n",
      "Move disk 1 from tower 1 to tower 7.\n",
      "Move disk 2 from tower 1 to tower 3.\n",
      "Move disk 1 from tower 7 to tower 3.\n"
     ]
    }
   ],
   "source": [
    "my_towers(4, 1, 3, 7)"
   ]
  },
  {
   "cell_type": "code",
   "execution_count": 14,
   "id": "90d67452",
   "metadata": {},
   "outputs": [],
   "source": [
    "def my_quicksort(lst):\n",
    "    \n",
    "    if len(lst) <= 1:\n",
    "        \n",
    "        sorted_list = lst    \n",
    "    else:\n",
    "        \n",
    "        pivot = lst[0]\n",
    "        bigger = []\n",
    "        smaller = []\n",
    "        same = []\n",
    "        \n",
    "        for item in lst:\n",
    "            if item > pivot:\n",
    "                bigger.append(item)\n",
    "            elif item < pivot:\n",
    "                smaller.append(item)\n",
    "            else:\n",
    "                same.append(item)\n",
    "        \n",
    "        sorted_list = my_quicksort(smaller) + same + my_quicksort(bigger)\n",
    "        \n",
    "    return sorted_list"
   ]
  },
  {
   "cell_type": "code",
   "execution_count": 15,
   "id": "3e0f36c0",
   "metadata": {},
   "outputs": [
    {
     "data": {
      "text/plain": [
       "[3, 3, 3, 5, 6, 10, 11, 12]"
      ]
     },
     "execution_count": 15,
     "metadata": {},
     "output_type": "execute_result"
    }
   ],
   "source": [
    "my_quicksort([3, 11, 12, 5, 6, 3, 3, 10])"
   ]
  },
  {
   "cell_type": "code",
   "execution_count": null,
   "id": "81612433",
   "metadata": {},
   "outputs": [],
   "source": []
  }
 ],
 "metadata": {
  "kernelspec": {
   "display_name": "Python 3 (ipykernel)",
   "language": "python",
   "name": "python3"
  },
  "language_info": {
   "codemirror_mode": {
    "name": "ipython",
    "version": 3
   },
   "file_extension": ".py",
   "mimetype": "text/x-python",
   "name": "python",
   "nbconvert_exporter": "python",
   "pygments_lexer": "ipython3",
   "version": "3.9.13"
  }
 },
 "nbformat": 4,
 "nbformat_minor": 5
}
