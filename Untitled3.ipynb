{
 "cells": [
  {
   "cell_type": "code",
   "execution_count": 1,
   "id": "adf7df15",
   "metadata": {},
   "outputs": [],
   "source": [
    "def my_thermo_stat(temp, desired_temp):\n",
    "    \n",
    "    if temp < desired_temp - 4:\n",
    "        status = 'Heat'\n",
    "    elif temp > desired_temp + 5:\n",
    "        status = 'AC'\n",
    "    else:\n",
    "        status = 'off'\n",
    "    return status"
   ]
  },
  {
   "cell_type": "code",
   "execution_count": 2,
   "id": "ba8b68ae",
   "metadata": {},
   "outputs": [
    {
     "name": "stdout",
     "output_type": "stream",
     "text": [
      "AC\n"
     ]
    }
   ],
   "source": [
    "status = my_thermo_stat(65,55)\n",
    "print(status)"
   ]
  },
  {
   "cell_type": "code",
   "execution_count": 3,
   "id": "e1ac4b32",
   "metadata": {},
   "outputs": [
    {
     "name": "stdout",
     "output_type": "stream",
     "text": [
      "Heat\n"
     ]
    }
   ],
   "source": [
    "status = my_thermo_stat(75,85)\n",
    "print(status)"
   ]
  },
  {
   "cell_type": "code",
   "execution_count": 4,
   "id": "3695dc17",
   "metadata": {},
   "outputs": [
    {
     "name": "stdout",
     "output_type": "stream",
     "text": [
      "0\n"
     ]
    }
   ],
   "source": [
    "x = 3\n",
    "if x > 6:\n",
    "    y = 2\n",
    "elif x > 8:\n",
    "    y = 7\n",
    "else:\n",
    "    y = 0\n",
    "print(y)"
   ]
  },
  {
   "cell_type": "code",
   "execution_count": 7,
   "id": "6366ce98",
   "metadata": {},
   "outputs": [
    {
     "name": "stdout",
     "output_type": "stream",
     "text": [
      "0\n"
     ]
    }
   ],
   "source": [
    "x = 2\n",
    "if x > 1 and x < 2:\n",
    "    y = 2\n",
    "elif x > 2 and x < 4:\n",
    "    y = 4\n",
    "else:\n",
    "    y = 0\n",
    "print(y)"
   ]
  },
  {
   "cell_type": "code",
   "execution_count": 8,
   "id": "5a6c8ef8",
   "metadata": {},
   "outputs": [
    {
     "name": "stdout",
     "output_type": "stream",
     "text": [
      "0\n"
     ]
    }
   ],
   "source": [
    "x = 1\n",
    "if 1 < x < 2:\n",
    "    y = 2\n",
    "elif 2 < x < 4:\n",
    "    y = 4\n",
    "else:\n",
    "    y = 0\n",
    "print(y)"
   ]
  },
  {
   "cell_type": "code",
   "execution_count": 9,
   "id": "cd355099",
   "metadata": {},
   "outputs": [],
   "source": [
    "def my_nested(x,y):\n",
    "    \n",
    "    if x > 2:\n",
    "        if y < 2:\n",
    "            out = x + y\n",
    "        else:\n",
    "            out = x - y\n",
    "    else:\n",
    "        if y > 2:\n",
    "            out = x*y\n",
    "        else:\n",
    "            out = 0\n",
    "    return out"
   ]
  },
  {
   "cell_type": "code",
   "execution_count": 12,
   "id": "3da11c3e",
   "metadata": {},
   "outputs": [
    {
     "data": {
      "text/plain": [
       "False"
      ]
     },
     "execution_count": 12,
     "metadata": {},
     "output_type": "execute_result"
    }
   ],
   "source": [
    "import numpy as np\n",
    "all([2, 3, 0])"
   ]
  },
  {
   "cell_type": "code",
   "execution_count": 14,
   "id": "ec9b85ce",
   "metadata": {},
   "outputs": [
    {
     "name": "stdout",
     "output_type": "stream",
     "text": [
      "48\n"
     ]
    }
   ],
   "source": [
    "def my_adder(a, b, c):\n",
    "    \n",
    "    \n",
    "    \n",
    "    if not (isinstance(a, (int, float)) \\\n",
    "            or isinstance(b, (int, float)) \\\n",
    "            or isinstance(c, (int, float))):\n",
    "        raise TypeError('Inputs must be numbers.')\n",
    "    return a + b + c\n",
    "x = my_adder(1,8,39)\n",
    "print(x)"
   ]
  },
  {
   "cell_type": "code",
   "execution_count": 15,
   "id": "9f10add0",
   "metadata": {},
   "outputs": [],
   "source": [
    "def is_odd(number):\n",
    "    \n",
    "    2\n",
    "    if number % 2 == 0:\n",
    "        return 'even'\n",
    "    else:\n",
    "        return 'odd'"
   ]
  },
  {
   "cell_type": "code",
   "execution_count": 16,
   "id": "4a4c0ca3",
   "metadata": {},
   "outputs": [
    {
     "data": {
      "text/plain": [
       "'odd'"
      ]
     },
     "execution_count": 16,
     "metadata": {},
     "output_type": "execute_result"
    }
   ],
   "source": [
    "is_odd(77)"
   ]
  },
  {
   "cell_type": "code",
   "execution_count": 17,
   "id": "f1e845cc",
   "metadata": {},
   "outputs": [
    {
     "data": {
      "text/plain": [
       "'even'"
      ]
     },
     "execution_count": 17,
     "metadata": {},
     "output_type": "execute_result"
    }
   ],
   "source": [
    "is_odd(20)"
   ]
  },
  {
   "cell_type": "code",
   "execution_count": 18,
   "id": "9a01dc5b",
   "metadata": {},
   "outputs": [],
   "source": [
    "np.pi\n",
    "def my_circ_calc(r, calc):\n",
    "    \n",
    "    if calc == 'area':\n",
    "        return np.pi*r**2\n",
    "    elif calc == 'circumference':\n",
    "        return 2*np.pi*r\n",
    "    my_circ_calc(2.5, 'area')\n",
    "    my_circ_calc(2.5, 'area')"
   ]
  },
  {
   "cell_type": "code",
   "execution_count": 19,
   "id": "4dcacd11",
   "metadata": {},
   "outputs": [
    {
     "data": {
      "text/plain": [
       "18.84955592153876"
      ]
     },
     "execution_count": 19,
     "metadata": {},
     "output_type": "execute_result"
    }
   ],
   "source": [
    "my_circ_calc(3, 'circumference')"
   ]
  },
  {
   "cell_type": "code",
   "execution_count": 20,
   "id": "8a75fb93",
   "metadata": {},
   "outputs": [
    {
     "data": {
      "text/plain": [
       "array([12.56637061, 18.84955592, 25.13274123])"
      ]
     },
     "execution_count": 20,
     "metadata": {},
     "output_type": "execute_result"
    }
   ],
   "source": [
    "my_circ_calc(np.array([2, 3, 4]), 'circumference')"
   ]
  },
  {
   "cell_type": "code",
   "execution_count": 21,
   "id": "50fb6e2e",
   "metadata": {},
   "outputs": [
    {
     "name": "stdout",
     "output_type": "stream",
     "text": [
      "student\n"
     ]
    }
   ],
   "source": [
    "is_student = True\n",
    "boy = 'student' if is_student else 'not student'\n",
    "print(boy)"
   ]
  },
  {
   "cell_type": "code",
   "execution_count": 25,
   "id": "a8a6dd1e",
   "metadata": {},
   "outputs": [
    {
     "name": "stdout",
     "output_type": "stream",
     "text": [
      "student\n"
     ]
    }
   ],
   "source": [
    "is_student = True\n",
    "if is_student:\n",
    "    person = 'student'\n",
    "else:\n",
    "    person = 'not student'\n",
    "print(person)"
   ]
  },
  {
   "cell_type": "code",
   "execution_count": null,
   "id": "af048a02",
   "metadata": {},
   "outputs": [],
   "source": []
  }
 ],
 "metadata": {
  "kernelspec": {
   "display_name": "Python 3 (ipykernel)",
   "language": "python",
   "name": "python3"
  },
  "language_info": {
   "codemirror_mode": {
    "name": "ipython",
    "version": 3
   },
   "file_extension": ".py",
   "mimetype": "text/x-python",
   "name": "python",
   "nbconvert_exporter": "python",
   "pygments_lexer": "ipython3",
   "version": "3.9.13"
  }
 },
 "nbformat": 4,
 "nbformat_minor": 5
}
